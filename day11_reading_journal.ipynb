{
 "cells": [
  {
   "cell_type": "markdown",
   "metadata": {},
   "source": [
    "# Day 11 Reading Journal\n",
    "\n",
    "This journal includes several required exercises, but it is meant to encourage active reading more generally.  You should use the journal to take detailed notes, catalog questions, and explore the content from Think Python deeply.\n",
    "\n",
    "Reading: Review Think Python Chapters 15-17\n",
    "\n",
    "**Due: Monday, February 29 at 12 noon**\n",
    "\n"
   ]
  },
  {
   "cell_type": "markdown",
   "metadata": {},
   "source": [
    "## [Chapter 15](http://www.greenteapress.com/thinkpython/html/thinkpython016.html), [Chapter 16](http://www.greenteapress.com/thinkpython/html/thinkpython017.html), [Chapter 17](http://www.greenteapress.com/thinkpython/html/thinkpython018.html)\n",
    "\n",
    "\n",
    "By the end of chapter 17, we have all the tools we need to create our own user-defined types known as classes. In this reading journal, we're asking you to review and solidify your understanding of this material so we can build on it for the rest of the course. \n",
    "\n",
    "If you didn't get a chance to fully complete the Day 10 reading journal, you may want to do so now."
   ]
  },
  {
   "cell_type": "markdown",
   "metadata": {
    "problem": "Terminology"
   },
   "source": [
    "### Terminology\n",
    "\n",
    "You should be familiar with the following list of terms and concepts. If any of them are unclear to you, re-read, ask, write a definition in your own words, and try an example if appropriate.\n",
    "\n",
    " - class\n",
    " - object\n",
    " - instance\n",
    " - attribute\n",
    " - method\n",
    " - shallow vs deep copying\n",
    " - pure functions vs modifiers\n",
    " - initializing object instances\n",
    " "
   ]
  },
  {
   "cell_type": "markdown",
   "metadata": {
    "is_question": true,
    "problem": "Exercise 1"
   },
   "source": [
    "### Exercise\n",
    "\n",
    "We're going to take the first steps toward writing a calendar application. To keep things simple, we'll restrict ourselves to a single day for now. Write an `Event` class with the following attributes:\n",
    "\n",
    " - `name`  : Title for the `Event`\n",
    " - `start` : `Time` object representing the start time for the `Event`\n",
    " - `end`   : `Time` object representing the end time for the `Event`\n",
    "\n",
    "You can also augment your `Event` class with additional attributes, such as location and attendees.\n",
    "\n",
    "Write `__init__` and `__str__` methods for your `Event` class."
   ]
  },
  {
   "cell_type": "markdown",
   "metadata": {
    "is_question": true,
    "problem": "Exercise 2"
   },
   "source": [
    "### Exercise\n",
    "\n",
    "Write a `duration` method that returns the duration of the `Event` in minutes."
   ]
  },
  {
   "cell_type": "markdown",
   "metadata": {
    "is_question": true,
    "problem": "Exercise 3"
   },
   "source": [
    "### Exercise\n",
    "\n",
    "Write an `Agenda` class that contains several `Event`s for the day.\n",
    "\n",
    "**Quick check: ** How should you store `Event`s within your `Agenda` class?\n",
    "\n",
    "Your `Agenda` class should include a `print_agenda` method that prints out your schedule for the day, in order.\n",
    "\n",
    "**Optional:** Include a `is_feasible` method that returns `True` if your schedule has no time conflicts. You may want to write additional helper methods for the `Event` class to make this easier."
   ]
  },
  {
   "cell_type": "markdown",
   "metadata": {
    "is_question": true,
    "problem": "Exercise 4"
   },
   "source": [
    "### Going Beyond (optional)\n",
    "\n",
    "Some ideas for taking your application further:\n",
    " - Add people and/or places to the mix to create a scheduling assistant\n",
    " - Extend support for day-of-week or full date. A word of warning: dealing with dates and times in real applications is difficult due to the huge number of special cases (Perfect example: this reading journal is due on Leap Day). Consider using something like the Python [datetime](https://docs.python.org/2/library/datetime.html) module.\n",
    " - Use pickle or some other persistence strategy to save and load your `Agenda`."
   ]
  },
  {
   "cell_type": "code",
   "execution_count": 24,
   "metadata": {
    "collapsed": false,
    "solution": "Exercise 4"
   },
   "outputs": [
    {
     "name": "stdout",
     "output_type": "stream",
     "text": [
      "01:02:03\n",
      "Name: SofDes Section 1\n",
      "Start: 13:30:00\n",
      "End: 15:10:00\n",
      "100\n",
      "\n",
      "Name: SofDes Section 1\n",
      "Start: 13:30:00\n",
      "End: 15:10:00\n",
      "Name: SofDes Section 2\n",
      "Start: 15:20:00\n",
      "End: 17:00:00\n",
      "\n",
      "True\n",
      "\n",
      "Name: SofDes Section 1\n",
      "Start: 13:30:00\n",
      "End: 15:10:00\n",
      "Name: MechProto\n",
      "Start: 13:30:00\n",
      "End: 15:10:00\n",
      "Name: SofDes Section 2\n",
      "Start: 15:20:00\n",
      "End: 17:00:00\n",
      "\n",
      "False\n"
     ]
    }
   ],
   "source": [
    "#All the exercises in one cell.\n",
    "\n",
    "class Time:\n",
    "    def __init__(self, hours, minutes, seconds):\n",
    "        self.hours = hours\n",
    "        self.minutes=minutes\n",
    "        self.seconds=seconds\n",
    "        \n",
    "    def __str__(self):\n",
    "        return '{:02d}:{:02d}:{:02d}'.format(self.hours, self.minutes, self.seconds)\n",
    "    \n",
    "    def diff(self, other):\n",
    "        \"\"\"Returns the difference between 2 times as a Time, self as start time, other as end time\"\"\"\n",
    "        hoursDiff=other.hours-self.hours\n",
    "        minDiff = other.minutes-self.minutes\n",
    "        secDiff = other.seconds-self.seconds\n",
    "        if secDiff<0:\n",
    "            minDiff-=1\n",
    "            secDiff+=60\n",
    "        if minDiff<0:\n",
    "            hoursDiff-=1\n",
    "            minDiff+=60\n",
    "        return Time(hoursDiff,minDiff,secDiff)\n",
    "    \n",
    "    def totalHours(self):\n",
    "        return self.hours\n",
    "    \n",
    "    def totalMinutes(self):\n",
    "        return self.hours*60+self.minutes\n",
    "    \n",
    "    def totalSeconds(self):\n",
    "        return self.hours*3600+self.minutes*60+self.seconds\n",
    "\n",
    "class Event:\n",
    "    def __init__(self, name='Untitled', start=Time(0,0,0),end=Time(0,0,0)):\n",
    "        self.name = name\n",
    "        self.start = start\n",
    "        self.end = end\n",
    "        \n",
    "    def __str__(self):\n",
    "        return 'Name: {}\\nStart: {}\\nEnd: {}'.format(self.name, str(self.start), str(self.end))\n",
    "    \n",
    "    def duration(self):\n",
    "        return self.start.diff(self.end).totalMinutes()\n",
    "    \n",
    "    def __cmp__(self,other):\n",
    "        return other.start.diff(self.start).totalSeconds()\n",
    "    \n",
    "\n",
    "class Agenda:\n",
    "    def __init__(self, *events):\n",
    "        self.schedule = []\n",
    "        for e in events:\n",
    "            self.schedule.append(e)\n",
    "        self.schedule.sort()\n",
    "    def addEvent(self,e):\n",
    "        self.schedule.append(e)\n",
    "        self.schedule.sort()\n",
    "    def __str__(self):\n",
    "        s = ''\n",
    "        for e in self.schedule:\n",
    "            s+=str(e)+'\\n'\n",
    "        return s\n",
    "    def print_agenda(self):\n",
    "        print str(self)\n",
    "        \n",
    "    def is_feasible(self):\n",
    "        feasible = True\n",
    "        for i in range(len(self.schedule)-1):\n",
    "            # if the duration between first event's end and second event's start is >=0\n",
    "            if self.schedule[i].end.diff(self.schedule[i+1].start).totalSeconds()<0:\n",
    "                feasible = False\n",
    "        return feasible\n",
    "    \n",
    "if __name__=='__main__':\n",
    "    t = Time(1,2,3)\n",
    "    print t\n",
    "    e = Event('SofDes Section 1', Time(13,30,0),Time(15,10,0))\n",
    "    print e\n",
    "    print e.duration()\n",
    "    print ''\n",
    "    a = Agenda(e, Event('SofDes Section 2', Time(15,20,0), Time(17,0,0)))\n",
    "    print a\n",
    "    print a.is_feasible()\n",
    "    print ''\n",
    "    a.addEvent(Event('MechProto', Time(13,30,0), Time(15,10,0)))\n",
    "    print a\n",
    "    print a.is_feasible()"
   ]
  },
  {
   "cell_type": "markdown",
   "metadata": {
    "is_poll": true,
    "is_question": true,
    "problem": "Time spent"
   },
   "source": [
    "## Quick poll\n",
    "About how long did you spend working on this Reading Journal?"
   ]
  },
  {
   "cell_type": "markdown",
   "metadata": {
    "poll_response": true,
    "solution": "Time spent"
   },
   "source": [
    " "
   ]
  },
  {
   "cell_type": "markdown",
   "metadata": {
    "is_question": true,
    "problem": "Feedback"
   },
   "source": [
    "## Reading Journal feedback\n",
    "\n",
    "Have any comments on this Reading Journal? Feel free to leave them below and we'll read them when you submit your journal entry. This could include suggestions to improve the exercises, topics you'd like to see covered in class next time, or other feedback.\n",
    "\n",
    "If you have Python questions or run into problems while completing the reading, you should post them to Piazza instead so you can get a quick response before your journal is submitted."
   ]
  },
  {
   "cell_type": "markdown",
   "metadata": {
    "feedback_response": true,
    "solution": "Feedback"
   },
   "source": [
    " "
   ]
  }
 ],
 "metadata": {
  "celltoolbar": "Raw Cell Format",
  "kernelspec": {
   "display_name": "Python 2",
   "language": "python",
   "name": "python2"
  },
  "language_info": {
   "codemirror_mode": {
    "name": "ipython",
    "version": 2
   },
   "file_extension": ".py",
   "mimetype": "text/x-python",
   "name": "python",
   "nbconvert_exporter": "python",
   "pygments_lexer": "ipython2",
   "version": "2.7.10"
  }
 },
 "nbformat": 4,
 "nbformat_minor": 0
}
