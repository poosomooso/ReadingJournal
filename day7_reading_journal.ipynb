{
 "cells": [
  {
   "cell_type": "markdown",
   "metadata": {},
   "source": [
    "# Day 7 Reading Journal\n",
    "\n",
    "This journal includes several required exercises, but it is meant to encourage active reading more generally.  You should use the journal to take detailed notes, catalog questions, and explore the content from Think Python deeply.\n",
    "\n",
    "Reading: Think Python Chapter 11, 12\n",
    "\n",
    "**Due: Thursday, February 18 at 12 noon**\n",
    "\n"
   ]
  },
  {
   "cell_type": "markdown",
   "metadata": {},
   "source": [
    "## [Chapter 11](http://www.greenteapress.com/thinkpython/html/thinkpython012.html)\n"
   ]
  },
  {
   "cell_type": "markdown",
   "metadata": {},
   "source": [
    "**Quick check:** In about one sentence using your own words, what is a dictionary?"
   ]
  },
  {
   "cell_type": "markdown",
   "metadata": {},
   "source": [
    "A data structure that stores key-value pairs, and you can access values with a key, similar to an index. "
   ]
  },
  {
   "cell_type": "markdown",
   "metadata": {
    "is_question": true,
    "problem": "Exercise 11.2"
   },
   "source": [
    "### Exercise 2  \n",
    "\n",
    "Dictionaries have a [method called `get`](https://docs.python.org/2/library/stdtypes.html#mapping-types-dict) that takes a key and a default value. If the key appears in the dictionary, `get` returns the corresponding value; otherwise it returns the default value. For example:\n",
    "\n",
    "```\n",
    ">>> h = histogram('a')\n",
    ">>> print h\n",
    "{'a': 1}\n",
    ">>> h.get('a', 0)\n",
    "1\n",
    ">>> h.get('b', 0)\n",
    "0\n",
    "```\n",
    "\n",
    "Use `get` to write `histogram` more concisely. You should be able to eliminate the `if` statement. Add unit tests for your histogram implementation."
   ]
  },
  {
   "cell_type": "code",
   "execution_count": 2,
   "metadata": {
    "collapsed": false,
    "solution": "Exercise 11.2"
   },
   "outputs": [
    {
     "name": "stdout",
     "output_type": "stream",
     "text": [
      "{'a': 2, 'c': 2, 'b': 2, 'e': 2, 'd': 2, 'f': 2}\n",
      "{'a': 1}\n",
      "{'a': 1, 4: 2, 5: 1, '4': 1}\n"
     ]
    }
   ],
   "source": [
    "def histogram(s):\n",
    "    d = dict()\n",
    "    for c in s:\n",
    "        d[c] = d.get(c,0)+1\n",
    "    return d\n",
    "print histogram(\"abcdeffedcba\")\n",
    "print histogram(\"a\")\n",
    "print histogram(['a',4,5,4,'4'])"
   ]
  },
  {
   "cell_type": "markdown",
   "metadata": {
    "is_question": true,
    "problem": "Exercise 11.4"
   },
   "source": [
    "### Exercise 4  \n",
    "\n",
    "Modify `reverse_lookup` so that it builds and returns a list of all keys that map to `v`, or an empty list if there are none. Add unit tests for your implementation."
   ]
  },
  {
   "cell_type": "code",
   "execution_count": 5,
   "metadata": {
    "collapsed": false,
    "solution": "Exercise 11.4"
   },
   "outputs": [
    {
     "name": "stdout",
     "output_type": "stream",
     "text": [
      "[1, 2, 7]\n",
      "[]\n"
     ]
    }
   ],
   "source": [
    "def reverse_lookup(d, v):\n",
    "    keys = []\n",
    "    for k in d:\n",
    "        if d[k] == v:\n",
    "            keys.append(k)\n",
    "    return keys\n",
    "print reverse_lookup({1:1,2:1,3:2,7:1},1)\n",
    "print reverse_lookup({1:1,2:1,3:2,7:1},5)"
   ]
  },
  {
   "cell_type": "markdown",
   "metadata": {},
   "source": [
    "If you'd like to learn more about errors and exceptions, you can check out the [Python tutorial](https://docs.python.org/2/tutorial/errors.html) or read ahead to [Appendix A](http://www.greenteapress.com/thinkpython/html/thinkpython021.html) of Think Python. If you choose to use doctest for your unit testing, it can also [deal with exceptions](https://docs.python.org/2/library/doctest.html#what-about-exceptions)."
   ]
  },
  {
   "cell_type": "markdown",
   "metadata": {},
   "source": [
    "**Quick check** What type of objects can be used as keys to a dictionary, i.e. what property must they have?"
   ]
  },
  {
   "cell_type": "markdown",
   "metadata": {},
   "source": [
    "It must be able to be hashed the same way no matter what (immutable objects). "
   ]
  },
  {
   "cell_type": "markdown",
   "metadata": {
    "is_question": true,
    "problem": "Exercise 11.6"
   },
   "source": [
    "### Exercise 6 (modified)\n",
    "\n",
    "Create a memoized version of your Levenshtein distance function from Day 7. What kind of performance change do you see?\n",
    "\n",
    "Optional: If you'd like to get some quantitative results, you could check out the [timeit](https://docs.python.org/2/library/timeit.html) module\n",
    "\n",
    "Note: You can also study Fibonacci here if you prefer."
   ]
  },
  {
   "cell_type": "code",
   "execution_count": 1,
   "metadata": {
    "collapsed": false,
    "solution": "Exercise 11.6"
   },
   "outputs": [
    {
     "name": "stdout",
     "output_type": "stream",
     "text": [
      "156.205132961\n",
      "158.104819775\n",
      "0.000112056732178\n"
     ]
    }
   ],
   "source": [
    "def levenshtein(s1, s2):\n",
    "    return lev_dist(s1,len(s1)-1,s2,len(s2)-1)\n",
    "def lev_dist(s1,s1i, s2,s2i):\n",
    "    if s1i<0:\n",
    "        return s2i+1\n",
    "    elif s2i <0:\n",
    "        return s1i+1\n",
    "    cost = 0 if s1[s1i]==s2[s2i] else 1\n",
    "    return min(lev_dist(s1, s1i-1,s2,s2i)+1, lev_dist(s1,s1i,s2,s2i-1)+1, lev_dist(s1,s1i-1, s2,s2i-1)+cost)\n",
    "\n",
    "memo = []\n",
    "def levenshtein_memo(s1, s2):\n",
    "    #memo = []\n",
    "    while len(memo)>0:\n",
    "        memo.remove(memo[0])\n",
    "    for c in s1:\n",
    "        memo.append([-1]*len(s2))\n",
    "    return lev_dist_memo(s1,len(s1)-1,s2,len(s2)-1)\n",
    "def lev_dist_memo(s1,s1i, s2,s2i):\n",
    "    \n",
    "    if s1i<0:\n",
    "        return s2i+1\n",
    "    elif s2i <0:\n",
    "        return s1i+1\n",
    "    if memo[s1i][s2i]>=0:\n",
    "        print '.',\n",
    "        return memo[s1i][s2i]\n",
    "    cost = 0 if s1[s1i]==s2[s2i] else 1\n",
    "    res = min(lev_dist(s1, s1i-1,s2,s2i)+1, lev_dist(s1,s1i,s2,s2i-1)+1, lev_dist(s1,s1i-1, s2,s2i-1)+cost)\n",
    "    memo[s1i][s2i] = res\n",
    "    return res\n",
    "\n",
    "def levenshtein_dynamic(s1,s2):\n",
    "    grid = [list(range(len(s2)+1))]\n",
    "    for c in s1:\n",
    "        grid.append([0]*(len(s2)+1))\n",
    "    for i in range(len(s1)+1):\n",
    "        grid[i][0]=i\n",
    "    for i in range(1,len(s1)+1):\n",
    "        for j in range(1,len(s2)+1):\n",
    "            cost = 1 if s1[i-1]!=s2[j-1] else 0\n",
    "            grid[i][j] = cost+min(grid[i-1][j-1], grid[i][j-1],grid[i-1][j])\n",
    "#     for arr in grid:\n",
    "#         print arr\n",
    "if __name__ == '__main__':\n",
    "    from timeit import timeit\n",
    "    #print levenshtein_memo('the Levenshtein distance','since the following')\n",
    "    print timeit(stmt=\"levenshtein('the Levenshteina','since thes')\",setup=\"from __main__ import levenshtein\",number=1)\n",
    "    print timeit(stmt=\"levenshtein_memo('the Levenshteina','since thes')\",setup=\"from __main__ import levenshtein_memo\", number=1)\n",
    "    print timeit(stmt=\"levenshtein_dynamic('the Levenshteina','since thes')\",setup=\"from __main__ import levenshtein_dynamic\", number=1)"
   ]
  },
  {
   "cell_type": "markdown",
   "metadata": {},
   "source": [
    "## [Chapter 12](http://www.greenteapress.com/thinkpython/html/thinkpython013.html)\n",
    "\n",
    "**Quick check:** In about one sentence using your own words, what is a tuple?"
   ]
  },
  {
   "cell_type": "markdown",
   "metadata": {},
   "source": [
    "An immutable list "
   ]
  },
  {
   "cell_type": "markdown",
   "metadata": {
    "is_question": true,
    "problem": "Exercise 12.1"
   },
   "source": [
    "### Exercise 1  \n",
    "\n",
    "Many of the built-in functions use variable-length argument tuples. For example, `max` and `min` can take any number of arguments:\n",
    "\n",
    "```\n",
    ">>> max(1,2,3)\n",
    "3\n",
    "```\n",
    "\n",
    "But `sum` does not.\n",
    "\n",
    "```\n",
    ">>> sum(1,2,3)\n",
    "TypeError: sum expected at most 2 arguments, got 3\n",
    "```\n",
    "\n",
    "Write a function called ```sumall``` that takes any number of arguments and returns their sum. \n",
    "\n",
    "Write unit tests for your function. Do I actually need to keep saying this? Let's assume it's always a good idea :)"
   ]
  },
  {
   "cell_type": "code",
   "execution_count": 16,
   "metadata": {
    "collapsed": false,
    "solution": "Exercise 12.1"
   },
   "outputs": [
    {
     "name": "stdout",
     "output_type": "stream",
     "text": [
      "10\n",
      "-1\n"
     ]
    }
   ],
   "source": [
    "def sumall(*args):\n",
    "    sum = 0\n",
    "    for n in args:\n",
    "        sum+=n\n",
    "    return sum\n",
    "print sumall(1,2,3,4)\n",
    "print sumall(0,-1)"
   ]
  },
  {
   "cell_type": "markdown",
   "metadata": {},
   "source": [
    "If you're interested in more flexible ways to pass arguments to functions, check out the [Python tutorial](https://docs.python.org/2/tutorial/controlflow.html#more-on-defining-functions). For instance, you can also use keyword arguments, which are collected into a dictionary just like `*` gathers variable numbers of positional arguments into a tuple.\n",
    "\n",
    "This pattern is very common for defining functions with complex optional behaviors in Python, and you will often see definitions like:\n",
    "\n",
    "```\n",
    "def my_func(required_argument1, *arguments, **keywords):\n",
    "    ...\n",
    "```"
   ]
  },
  {
   "cell_type": "markdown",
   "metadata": {
    "is_question": true,
    "problem": "Exercise 12 sort"
   },
   "source": [
    "### Exercise\n",
    "\n",
    "Write a function `sort_by_last_letter` that takes a list of words and returns a new list with the words sorted alphabetically by the _last letter_ in the word. Hint: use the **Decorate, Sort, Undecorate** pattern. Write unit tests for your function."
   ]
  },
  {
   "cell_type": "code",
   "execution_count": 20,
   "metadata": {
    "collapsed": false,
    "solution": "Exercise 12 sort"
   },
   "outputs": [
    {
     "name": "stdout",
     "output_type": "stream",
     "text": [
      "['apple', 'hi', 'hello', 'apples']\n",
      "['a', 'b', 'c']\n"
     ]
    }
   ],
   "source": [
    "\n",
    "def sort_by_last_letter(*words):\n",
    "    sortList = []\n",
    "    for w in words:\n",
    "        sortList.append(''.join(w[i] for i in range(len(w)-1,-1,-1)))\n",
    "    sortList.sort()\n",
    "    newList = []\n",
    "    for w in sortList:\n",
    "        newList.append(''.join(w[i] for i in range(len(w)-1,-1,-1)))\n",
    "    return newList\n",
    "\n",
    "print sort_by_last_letter('hello','hi','apples','apple')\n",
    "print sort_by_last_letter('c','b','a')"
   ]
  },
  {
   "cell_type": "markdown",
   "metadata": {},
   "source": [
    "**Quick check** Give an example of when you might use each sequence type:\n",
    "\n",
    "- tuple\n",
    "\n",
    "- list\n",
    "\n",
    "- string"
   ]
  },
  {
   "cell_type": "markdown",
   "metadata": {},
   "source": [
    "Tuple: sending a list of arguments\n",
    "\n",
    "list: storing a bunch of similar elements, ex. a list of names\n",
    "\n",
    "string: storing characters to print onto the screen"
   ]
  },
  {
   "cell_type": "markdown",
   "metadata": {
    "is_question": true,
    "problem": "Exercise 12.3"
   },
   "source": [
    "### Exercise 3  \n",
    "\n",
    "Write a function called `most_frequent` that takes a string and prints the letters in decreasing order of frequency. Find text samples from several different languages and see how letter frequency varies between languages. Compare your results with the tables at http://en.wikipedia.org/wiki/Letter_frequencies. \n",
    "\n",
    "Allen's solution (try it on your own first): http://thinkpython.com/code/most_frequent.py. "
   ]
  },
  {
   "cell_type": "code",
   "execution_count": 32,
   "metadata": {
    "collapsed": false,
    "solution": "Exercise 12.3"
   },
   "outputs": [
    {
     "name": "stdout",
     "output_type": "stream",
     "text": [
      "English\n",
      "80  :   \n",
      "51  :  e\n",
      "36  :  a\n",
      "33  :  i t\n",
      "27  :  n\n",
      "22  :  s\n",
      "19  :  l\n",
      "18  :  h o r\n",
      "17  :  d\n",
      "16  :  c\n",
      "11  :  u y\n",
      "9   :  b m p\n",
      "7   :  f\n",
      "5   :  q v\n",
      "4   :  , C\n",
      "3   :  0 E g k\n",
      "2   :  ) ( . 1 8 A w x\n",
      "1   :  � � - 3 4 7 I K J L � T\n",
      "None\n",
      "Spanish\n",
      "80  :   \n",
      "50  :  e\n",
      "39  :  a\n",
      "31  :  o\n",
      "28  :  s\n",
      "27  :  l n\n",
      "25  :  r\n",
      "24  :  i\n",
      "22  :  t\n",
      "21  :  u\n",
      "19  :  c\n",
      "14  :  d\n",
      "13  :  �\n",
      "10  :  m\n",
      "8   :  p\n",
      "7   :  h\n",
      "6   :  � . b f\n",
      "5   :  E v\n",
      "4   :  ' ,\n",
      "3   :  � S g y\n",
      "2   :  W\n",
      "1   :  � � � � ; : j q x\n",
      "None\n",
      "French\n",
      "84  :   \n",
      "61  :  e\n",
      "30  :  a\n",
      "28  :  n u\n",
      "27  :  i\n",
      "26  :  l s t\n",
      "25  :  r\n",
      "18  :  d\n",
      "16  :  c\n",
      "15  :  o\n",
      "13  :  p\n",
      "10  :  m\n",
      "9   :  � f\n",
      "7   :  b\n",
      "6   :  �\n",
      "5   :  v\n",
      "4   :  , g y\n",
      "3   :  � � : � L � q\n",
      "2   :  � . �\n",
      "1   :  ) � 2 ( � O W Z h x\n",
      "None\n",
      "German\n",
      "66  :   \n",
      "65  :  e\n",
      "34  :  t\n",
      "33  :  i n\n",
      "27  :  a\n",
      "25  :  s\n",
      "22  :  r\n",
      "21  :  h\n",
      "19  :  u\n",
      "14  :  d\n",
      "13  :  g\n",
      "11  :  c b l o\n",
      "9   :  m\n",
      "8   :  �\n",
      "6   :  f\n",
      "5   :  � B k v z\n",
      "4   :  p\n",
      "3   :  , . G S T w x\n",
      "2   :  � A D �\n",
      "1   :  R � � � ) ( � � H K W V Z j q\n",
      "None\n"
     ]
    }
   ],
   "source": [
    "\n",
    "def most_frequent(s):\n",
    "    letters = {}\n",
    "    for c in s:\n",
    "        letters[c] = letters.get(c,0)+1\n",
    "    return letters\n",
    "def print_dict(d):\n",
    "    d_temp = {}\n",
    "    for k in d.keys():\n",
    "        d_temp[d[k]] = d_temp.get(d[k],'')+\" \"+k\n",
    "    sortkeys = sorted(d_temp.keys(),reverse=True)\n",
    "    for k in sortkeys:\n",
    "        print '{:<3d}'.format(k),':',d_temp[k]\n",
    "        \n",
    "        \n",
    "eng = \"The frequency of letters in text has been studied for use in cryptanalysis, and frequency analysis in particular, dating back to the Iraqi mathematician Al-Kindi (c. 801–873 CE), who formally developed the method (the ciphers breakable by this technique go back at least to the Caesar cipher invented by Julius Caesar, so this method could have been explored in classical times). Letter frequency analysis gained additional importance with the development of movable type in Asia in 1040 CE and in Eu\"\n",
    "spa = \"El cálculo de la frecuencia de letras en una lengua es difícil y está sujeto a la interpretación. Se cuenta la frecuencia de las letras de un texto arbitrariamente largo, pero en los resultados influyen varios parámetros:El estilo narrativo. Si hay muchos verbos en infinitivo, habrá muchas \"R\".El vocabulario específico del documento. Si se habla de ríos, habrá muchas 'Í'; si uno de los protagonistas se llama Wenceslao, aumentará el número de 'W'.El tipo de documento. En pequeños anuncios se pued\"\n",
    "fra = \"Le calcul de la fréquence des lettres dans une langue est difficile et soumis à interprétation. On compte la fréquence des lettres d’un texte arbitrairement long, mais un certain nombre de paramètres influencent les résultats:Le style narratif : s’il y a beaucoup de verbes à la 2e personne du pluriel (le vouvoiement, présent dans beaucoup de dialogues), il y aura significativement plus de « Z ».Le vocabulaire spécifique du document : si l’on parle de chemins de fer, il y aura beaucoup plus de« W\"\n",
    "ger = \"Die Buchstabenhäufigkeit ist eine statistische Größe, die angibt, wie oft ein bestimmter Buchstabe in einem Text oder einer Sammlung von Texten („Korpus“) vorkommt. Sie kann als absolute Anzahl oder in Relation zur Gesamtzahl der Buchstaben des Textes angegeben werden. Die Häufigkeitsverteilung der Buchstaben hängt von der jeweiligen Sprache ab. Während frühere Annahmen pauschal die statistische Verteilung der Buchstabenhäufigkeit durch das Zipfsche Gesetz vorherzusagen glaubten, hat die quantit\"\n",
    "\n",
    "print 'English'\n",
    "print print_dict(most_frequent(eng))\n",
    "print 'Spanish'\n",
    "print print_dict(most_frequent(spa))\n",
    "print 'French'\n",
    "print print_dict(most_frequent(fra))\n",
    "print 'German'\n",
    "print print_dict(most_frequent(ger))"
   ]
  },
  {
   "cell_type": "markdown",
   "metadata": {
    "is_question": true,
    "problem": "Exercise 12.6"
   },
   "source": [
    "### Challenge: Exercise 6   (optional)\n",
    "\n",
    "From a [Car Talk Puzzler](http://www.cartalk.com/content/puzzlers):\n",
    "\n",
    "What is the longest English word, that remains a valid English word, as you remove its letters one at a time?\n",
    "\n",
    "Now, letters can be removed from either end, or the middle, but you can’t rearrange any of the letters. Every time you drop a letter, you wind up with another English word. If you do that, you’re eventually going to wind up with one letter and that too is going to be an English word—one that’s found in the dictionary. I want to know what’s the longest word and how many letters does it have?\n",
    "\n",
    "I’m going to give you a little modest example: Sprite. Ok? You start off with sprite, you take a letter off, one from the interior of the word, take the r away, and we’re left with the word spite, then we take the e off the end, we’re left with spit, we take the s off, we’re left with pit, it, and I. \n",
    "\n",
    "Write a program to find all words that can be reduced in this way, and then find the longest one.\n",
    "\n",
    "This exercise is a little more challenging than most, so here are some suggestions:\n",
    "\n",
    "- You might want to write a function that takes a word and computes a list of all the words that can be formed by removing one letter. These are the “children” of the word.\n",
    "- Recursively, a word is reducible if any of its children are reducible. As a base case, you can consider the empty string reducible.\n",
    "- The word list from [Chapter 9.1](http://www.greenteapress.com/thinkpython/html/thinkpython010.html) Exercise 1 doesn’t contain single letter words. So you might want to add “I”, “a”, and the empty string.\n",
    "- To improve the performance of your program, you might want to memoize the words that are known to be reducible.\n",
    "\n",
    "Allen's solution: http://thinkpython.com/code/reducible.py."
   ]
  },
  {
   "cell_type": "code",
   "execution_count": 26,
   "metadata": {
    "collapsed": false,
    "solution": "Exercise 12.6"
   },
   "outputs": [
    {
     "name": "stdout",
     "output_type": "stream",
     "text": [
      "True\n",
      "False\n"
     ]
    }
   ],
   "source": [
    "memo = {}\n",
    "reader = open('words.txt')\n",
    "temp_words = [w.strip() for w in reader]\n",
    "temp_words.append('i')\n",
    "temp_words.append('a')\n",
    "temp_words.append('')\n",
    "#set:implemented with hashtable\n",
    "all_words = set(temp_words)\n",
    "def reduce_word(s):\n",
    "    if s == '':\n",
    "        return True\n",
    "    if memo.get(s):\n",
    "        return memo[s]\n",
    "    remaining_words = []\n",
    "    for i in range(len(s)):\n",
    "        temp = (s[:i]+s[i+1:])\n",
    "        if temp in all_words:\n",
    "            remaining_words.append(temp)\n",
    "    if len(remaining_words)==0:\n",
    "        return False\n",
    "    reducible = True in [reduce_word(w) for w in remaining_words]\n",
    "    memo[s] = reducible\n",
    "    \n",
    "    return reducible\n",
    "print reduce_word('sprite')\n",
    "print reduce_word('hello')"
   ]
  },
  {
   "cell_type": "markdown",
   "metadata": {
    "is_question": true,
    "problem": "Feedback"
   },
   "source": [
    "## Reading Journal feedback\n",
    "\n",
    "Have any comments on this Reading Journal? Feel free to leave them below and we'll read them when you submit your journal entry. This could include suggestions to improve the exercises, topics you'd like to see covered in class next time, or other feedback.\n",
    "\n",
    "If you have Python questions or run into problems while completing the reading, you should post them to Piazza instead so you can get a quick response before your journal is submitted."
   ]
  },
  {
   "cell_type": "markdown",
   "metadata": {
    "feedback_response": true,
    "solution": "Feedback"
   },
   "source": [
    " "
   ]
  }
 ],
 "metadata": {
  "kernelspec": {
   "display_name": "Python 2",
   "language": "python",
   "name": "python2"
  },
  "language_info": {
   "codemirror_mode": {
    "name": "ipython",
    "version": 2
   },
   "file_extension": ".py",
   "mimetype": "text/x-python",
   "name": "python",
   "nbconvert_exporter": "python",
   "pygments_lexer": "ipython2",
   "version": "2.7.6"
  }
 },
 "nbformat": 4,
 "nbformat_minor": 0
}
