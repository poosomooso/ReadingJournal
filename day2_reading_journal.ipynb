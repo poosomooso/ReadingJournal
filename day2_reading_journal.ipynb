{
 "cells": [
  {
   "cell_type": "markdown",
   "metadata": {},
   "source": [
    "# Day 2 Reading Journal\n",
    "\n",
    "This journal includes several required exercises, but it is meant to encourage active reading more generally.  You should use the journal to take detailed notes, catalog questions, and explore the content from Think Python deeply.\n",
    "\n",
    "Reading: Think Python Chapter 6.1-6.4, 7\n",
    "\n",
    "**Due: Thursday, January 28 at 12 noon**\n",
    "\n"
   ]
  },
  {
   "cell_type": "markdown",
   "metadata": {},
   "source": [
    "## [Chapter 6.1-6.4](http://www.greenteapress.com/thinkpython/html/thinkpython007.html)\n",
    "\n",
    "Note: the exercise numbers below match up with the reading for ease of cross referencing."
   ]
  },
  {
   "cell_type": "markdown",
   "metadata": {},
   "source": [
    "**Quick check:** What is a _fruitful function_?"
   ]
  },
  {
   "cell_type": "markdown",
   "metadata": {},
   "source": [
    "A function that returns a value"
   ]
  },
  {
   "cell_type": "markdown",
   "metadata": {},
   "source": [
    "### Exercise 1  \n",
    "Write a `compare` function that returns `1` if `x > y`, `0` if `x == y`, and `-1` if `x < y`."
   ]
  },
  {
   "cell_type": "code",
   "execution_count": 5,
   "metadata": {
    "collapsed": false
   },
   "outputs": [
    {
     "name": "stdout",
     "output_type": "stream",
     "text": [
      "-1\n",
      "0\n",
      "1\n"
     ]
    }
   ],
   "source": [
    "from numpy import sign\n",
    "def compare(x,y):\n",
    "    return int(sign(x-y))\n",
    "\n",
    "print(compare(1,2))\n",
    "print(compare(1.1,1.1))\n",
    "print(compare(2.1,1.3))"
   ]
  },
  {
   "cell_type": "markdown",
   "metadata": {},
   "source": [
    "**Quick check:** Modify the `absolute_value` function so that it returns the correct result for all integer inputs."
   ]
  },
  {
   "cell_type": "code",
   "execution_count": 6,
   "metadata": {
    "collapsed": true
   },
   "outputs": [],
   "source": [
    "def absolute_value(x):\n",
    "    if x < 0:\n",
    "        return -x\n",
    "    if x >= 0:\n",
    "        return x"
   ]
  },
  {
   "cell_type": "markdown",
   "metadata": {},
   "source": [
    "### Exercise 2  \n",
    "Use incremental development to write a function called `hypotenuse` that returns the length of the hypotenuse of a right triangle given the lengths of the two legs as arguments. Record each stage of the development process as you go, using as many cells as you need."
   ]
  },
  {
   "cell_type": "code",
   "execution_count": 8,
   "metadata": {
    "collapsed": false
   },
   "outputs": [
    {
     "data": {
      "text/plain": [
       "9"
      ]
     },
     "execution_count": 8,
     "metadata": {},
     "output_type": "execute_result"
    }
   ],
   "source": [
    "def hypotenuse(a,b):\n",
    "    return a**2\n",
    "\n",
    "hypotenuse(3,4)"
   ]
  },
  {
   "cell_type": "code",
   "execution_count": 10,
   "metadata": {
    "collapsed": false
   },
   "outputs": [
    {
     "data": {
      "text/plain": [
       "25"
      ]
     },
     "execution_count": 10,
     "metadata": {},
     "output_type": "execute_result"
    }
   ],
   "source": [
    "def hypotenuse(a,b):\n",
    "    return a**2 + b**2\n",
    "\n",
    "hypotenuse(3,4)"
   ]
  },
  {
   "cell_type": "code",
   "execution_count": 11,
   "metadata": {
    "collapsed": false
   },
   "outputs": [
    {
     "ename": "NameError",
     "evalue": "global name 'sqrt' is not defined",
     "output_type": "error",
     "traceback": [
      "\u001b[1;31m---------------------------------------------------------------------------\u001b[0m",
      "\u001b[1;31mNameError\u001b[0m                                 Traceback (most recent call last)",
      "\u001b[1;32m<ipython-input-11-1f85affb327d>\u001b[0m in \u001b[0;36m<module>\u001b[1;34m()\u001b[0m\n\u001b[0;32m      2\u001b[0m     \u001b[1;32mreturn\u001b[0m \u001b[0msqrt\u001b[0m\u001b[1;33m(\u001b[0m\u001b[0ma\u001b[0m\u001b[1;33m**\u001b[0m\u001b[1;36m2\u001b[0m \u001b[1;33m+\u001b[0m \u001b[0mb\u001b[0m\u001b[1;33m**\u001b[0m\u001b[1;36m2\u001b[0m\u001b[1;33m)\u001b[0m\u001b[1;33m\u001b[0m\u001b[0m\n\u001b[0;32m      3\u001b[0m \u001b[1;33m\u001b[0m\u001b[0m\n\u001b[1;32m----> 4\u001b[1;33m \u001b[0mhypotenuse\u001b[0m\u001b[1;33m(\u001b[0m\u001b[1;36m3\u001b[0m\u001b[1;33m,\u001b[0m\u001b[1;36m4\u001b[0m\u001b[1;33m)\u001b[0m\u001b[1;33m\u001b[0m\u001b[0m\n\u001b[0m",
      "\u001b[1;32m<ipython-input-11-1f85affb327d>\u001b[0m in \u001b[0;36mhypotenuse\u001b[1;34m(a, b)\u001b[0m\n\u001b[0;32m      1\u001b[0m \u001b[1;32mdef\u001b[0m \u001b[0mhypotenuse\u001b[0m\u001b[1;33m(\u001b[0m\u001b[0ma\u001b[0m\u001b[1;33m,\u001b[0m\u001b[0mb\u001b[0m\u001b[1;33m)\u001b[0m\u001b[1;33m:\u001b[0m\u001b[1;33m\u001b[0m\u001b[0m\n\u001b[1;32m----> 2\u001b[1;33m     \u001b[1;32mreturn\u001b[0m \u001b[0msqrt\u001b[0m\u001b[1;33m(\u001b[0m\u001b[0ma\u001b[0m\u001b[1;33m**\u001b[0m\u001b[1;36m2\u001b[0m \u001b[1;33m+\u001b[0m \u001b[0mb\u001b[0m\u001b[1;33m**\u001b[0m\u001b[1;36m2\u001b[0m\u001b[1;33m)\u001b[0m\u001b[1;33m\u001b[0m\u001b[0m\n\u001b[0m\u001b[0;32m      3\u001b[0m \u001b[1;33m\u001b[0m\u001b[0m\n\u001b[0;32m      4\u001b[0m \u001b[0mhypotenuse\u001b[0m\u001b[1;33m(\u001b[0m\u001b[1;36m3\u001b[0m\u001b[1;33m,\u001b[0m\u001b[1;36m4\u001b[0m\u001b[1;33m)\u001b[0m\u001b[1;33m\u001b[0m\u001b[0m\n",
      "\u001b[1;31mNameError\u001b[0m: global name 'sqrt' is not defined"
     ]
    }
   ],
   "source": [
    "def hypotenuse(a,b):\n",
    "    return sqrt(a**2 + b**2)\n",
    "\n",
    "hypotenuse(3,4)"
   ]
  },
  {
   "cell_type": "code",
   "execution_count": 12,
   "metadata": {
    "collapsed": false
   },
   "outputs": [
    {
     "data": {
      "text/plain": [
       "5.0"
      ]
     },
     "execution_count": 12,
     "metadata": {},
     "output_type": "execute_result"
    }
   ],
   "source": [
    "import math\n",
    "def hypotenuse(a,b):\n",
    "    return math.sqrt(a**2 + b**2)\n",
    "\n",
    "hypotenuse(3,4)"
   ]
  },
  {
   "cell_type": "markdown",
   "metadata": {},
   "source": [
    "### Exercise 3  \n",
    "Write a function `is_between(x, y, z)` that returns `True` if `x ≤ y ≤ z` or `False` otherwise."
   ]
  },
  {
   "cell_type": "code",
   "execution_count": 13,
   "metadata": {
    "collapsed": false
   },
   "outputs": [
    {
     "name": "stdout",
     "output_type": "stream",
     "text": [
      "True\n",
      "True\n",
      "False\n"
     ]
    }
   ],
   "source": [
    "def is_between(x,y,z):\n",
    "    return x<=y and y<=z\n",
    "\n",
    "print is_between(1,2,3)\n",
    "print is_between(0,0,0)\n",
    "print is_between(-1,-2,-3)"
   ]
  },
  {
   "cell_type": "markdown",
   "metadata": {},
   "source": [
    "## [Chapter 7](http://www.greenteapress.com/thinkpython/html/thinkpython008.html)\n",
    "\n"
   ]
  },
  {
   "cell_type": "markdown",
   "metadata": {},
   "source": [
    "**Quick check:** How do you test for equality in Python?"
   ]
  },
  {
   "cell_type": "markdown",
   "metadata": {},
   "source": [
    "a == b "
   ]
  },
  {
   "cell_type": "markdown",
   "metadata": {},
   "source": [
    "**Challenge:** Prove/disprove the Collatz conjecture :)"
   ]
  },
  {
   "cell_type": "markdown",
   "metadata": {},
   "source": [
    "### Exercise 2  \n",
    "Encapsulate the loop from Section 7.5 in a function called `square_root` that takes `a` as a parameter, chooses a reasonable value of `x`, and returns an estimate of the square root of `a`."
   ]
  },
  {
   "cell_type": "code",
   "execution_count": 27,
   "metadata": {
    "collapsed": false
   },
   "outputs": [
    {
     "name": "stdout",
     "output_type": "stream",
     "text": [
      "2.0\n",
      "1.41421356237\n",
      "16.0\n"
     ]
    }
   ],
   "source": [
    "def square_root(x):\n",
    "    a = x/2.0\n",
    "    a0 = x/1.0\n",
    "    while(abs(a0-a)>.0000000000000001):\n",
    "        a0 = a\n",
    "        a = ((a+x/a)/2.0)\n",
    "    return a\n",
    "print(square_root(4))\n",
    "print(square_root(2))\n",
    "print(square_root(16*16))"
   ]
  },
  {
   "cell_type": "markdown",
   "metadata": {},
   "source": [
    "### Exercise 3  \n",
    "To test the square root algorithm you developed in Exercise 2, you could compare it with Python's `math.sqrt` function. Write a function named `test_square_root` that prints a table like this:\n",
    "\n",
    "```python\n",
    "1.0 1.0           1.0           0.0\n",
    "2.0 1.41421356237 1.41421356237 2.22044604925e-16\n",
    "3.0 1.73205080757 1.73205080757 0.0\n",
    "4.0 2.0           2.0           0.0\n",
    "5.0 2.2360679775  2.2360679775  0.0\n",
    "6.0 2.44948974278 2.44948974278 0.0\n",
    "7.0 2.64575131106 2.64575131106 0.0\n",
    "8.0 2.82842712475 2.82842712475 4.4408920985e-16\n",
    "9.0 3.0           3.0           0.0\n",
    "```\n",
    "\n",
    "The first column is a number, `a`; the second column is the square root of a computed with the function from Section 7.5; the third column is the square root computed by `math.sqrt`; the fourth column is the absolute value of the difference between the two estimates."
   ]
  },
  {
   "cell_type": "code",
   "execution_count": 38,
   "metadata": {
    "collapsed": false
   },
   "outputs": [
    {
     "name": "stdout",
     "output_type": "stream",
     "text": [
      "1.0 1.00000000000 1.00000000000 0.0\n",
      "2.0 1.41421356237 1.41421356237 2.22044604925e-16\n",
      "3.0 1.73205080757 1.73205080757 0.0\n",
      "4.0 2.00000000000 2.00000000000 0.0\n",
      "5.0 2.23606797750 2.23606797750 0.0\n",
      "6.0 2.44948974278 2.44948974278 0.0\n",
      "7.0 2.64575131106 2.64575131106 0.0\n",
      "8.0 2.82842712475 2.82842712475 4.4408920985e-16\n"
     ]
    }
   ],
   "source": [
    "from math import sqrt\n",
    "\n",
    "def test_square_root():\n",
    "    for i in range(1,9):\n",
    "        me = square_root(i)\n",
    "        pyth = sqrt(i)\n",
    "        print \"{0:.1f} {1:.11f} {2:.11f} {3}\".format(float(i), me, pyth, abs(me-pyth))\n",
    "\n",
    "test_square_root()"
   ]
  },
  {
   "cell_type": "markdown",
   "metadata": {},
   "source": [
    "### Challenge: Exercise 5  (optional)\n",
    "The mathematician Srinivasa Ramanujan found an infinite series that can be used to generate a numerical approximation of\n",
    "$\\frac{1}{\\pi}$:\n",
    "\n",
    "$$\\frac{1}{\\pi} = \\frac{2 \\sqrt{2}}{9801} \\sum_{k=0}^{\\infty} \\frac{(4k)! (1103+26390k)}{(k!)^4 396^{4k}}$$\n",
    " \n",
    "Write a function called `estimate_pi` that uses this formula to compute and return an estimate of $\\pi$. It should use a `while` loop to compute terms of the summation until the last term is smaller than `1e-15` (which is Python notation for $10^{−15}$). You can check the result by comparing it to `math.pi`.\n",
    "\n",
    "[Possible solution](http://thinkpython.com/code/pi.py) (give the exercise a try before viewing the solution)"
   ]
  },
  {
   "cell_type": "code",
   "execution_count": 1,
   "metadata": {
    "collapsed": false
   },
   "outputs": [
    {
     "name": "stdout",
     "output_type": "stream",
     "text": [
      "3.14159265359\n",
      "0.0\n"
     ]
    }
   ],
   "source": [
    "import math\n",
    "def estimate_pi():\n",
    "    sum = 0.0\n",
    "    j = 0.0\n",
    "    end = False\n",
    "    \n",
    "    \n",
    "    def formula(k):\n",
    "        return factorial(4.0*k)*(1103+26390*k)/(factorial(k)**4)/(396**(4.0*k))\n",
    "    def factorial(x):\n",
    "        if(x<=1):\n",
    "            return 1\n",
    "        else:\n",
    "            return x*factorial(x-1)\n",
    "        \n",
    "    while(not end):\n",
    "        piece = formula(j)\n",
    "        if piece < 10**(-15):\n",
    "            end = True\n",
    "        sum+=piece\n",
    "        j+=1\n",
    "    sum*=(2*math.sqrt(2)/9801)\n",
    "    sum = 1.0/sum\n",
    "    return sum\n",
    "est = estimate_pi()\n",
    "print(est)\n",
    "print(est-math.pi)"
   ]
  },
  {
   "cell_type": "markdown",
   "metadata": {},
   "source": [
    "## Reading Journal feedback\n",
    "\n",
    "Have any comments on this Reading Journal? Feel free to leave them below and we'll read them when you submit your journal entry. This could include suggestions to improve the exercises, topics you'd like to see covered in class next time, or other feedback.\n",
    "\n",
    "If you have Python questions or run into problems while completing the reading, you should post them to Piazza instead so you can get a quick response before your journal is submitted."
   ]
  },
  {
   "cell_type": "markdown",
   "metadata": {},
   "source": [
    " "
   ]
  }
 ],
 "metadata": {
  "kernelspec": {
   "display_name": "Python 2",
   "language": "python",
   "name": "python2"
  },
  "language_info": {
   "codemirror_mode": {
    "name": "ipython",
    "version": 2
   },
   "file_extension": ".py",
   "mimetype": "text/x-python",
   "name": "python",
   "nbconvert_exporter": "python",
   "pygments_lexer": "ipython2",
   "version": "2.7.10"
  }
 },
 "nbformat": 4,
 "nbformat_minor": 0
}
